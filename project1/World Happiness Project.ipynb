{
 "cells": [
  {
   "cell_type": "markdown",
   "id": "8ec0df61",
   "metadata": {},
   "source": [
    "# World Happiness Classification\n",
    "link to github repo: https://github.com/Ran-Liao/Adv-Machine-Learning"
   ]
  },
  {
   "cell_type": "code",
   "execution_count": 3,
   "id": "616017f0",
   "metadata": {},
   "outputs": [
    {
     "name": "stdout",
     "output_type": "stream",
     "text": [
      "Collecting aimodelshare\n",
      "  Using cached aimodelshare-0.0.178-py3-none-any.whl (966 kB)\n",
      "Collecting docker==5.0.0\n",
      "  Using cached docker-5.0.0-py2.py3-none-any.whl (146 kB)\n",
      "Collecting psutil>=5.9.1\n",
      "  Using cached psutil-5.9.4-cp36-abi3-win_amd64.whl (252 kB)\n",
      "Collecting PyJWT>=2.4.0\n",
      "  Using cached PyJWT-2.6.0-py3-none-any.whl (20 kB)\n",
      "Collecting importlib-resources==5.10.0\n",
      "  Using cached importlib_resources-5.10.0-py3-none-any.whl (34 kB)\n",
      "Collecting skl2onnx>=1.8.0\n",
      "  Using cached skl2onnx-1.13-py2.py3-none-any.whl (288 kB)\n",
      "Collecting Pympler==0.9\n",
      "  Using cached Pympler-0.9-py3-none-any.whl\n",
      "Requirement already satisfied: astunparse==1.6.3 in c:\\users\\ran liao\\miniconda3\\lib\\site-packages (from aimodelshare) (1.6.3)\n",
      "Collecting regex\n",
      "  Using cached regex-2022.10.31-cp39-cp39-win_amd64.whl (267 kB)\n",
      "Collecting pydot==1.3.0\n",
      "  Using cached pydot-1.3.0-py2.py3-none-any.whl (18 kB)\n",
      "Collecting onnxconverter-common>=1.7.0\n",
      "  Using cached onnxconverter_common-1.13.0-py2.py3-none-any.whl (83 kB)\n",
      "Collecting shortuuid>=1.0.8\n",
      "  Using cached shortuuid-1.0.11-py3-none-any.whl (10 kB)\n",
      "Collecting onnx==1.12.0\n",
      "  Using cached onnx-1.12.0-cp39-cp39-win_amd64.whl (11.5 MB)\n",
      "Collecting onnxruntime>=1.7.0\n",
      "  Using cached onnxruntime-1.13.1-cp39-cp39-win_amd64.whl (5.9 MB)\n",
      "Collecting tf2onnx\n",
      "  Using cached tf2onnx-1.13.0-py3-none-any.whl (442 kB)\n",
      "Collecting tensorflow==2.9.2\n",
      "  Using cached tensorflow-2.9.2-cp39-cp39-win_amd64.whl (444.1 MB)\n",
      "Collecting scikit-learn==0.24.2\n",
      "  Using cached scikit_learn-0.24.2-cp39-cp39-win_amd64.whl (6.9 MB)\n",
      "Collecting botocore==1.24.20\n",
      "  Using cached botocore-1.24.20-py3-none-any.whl (8.6 MB)\n",
      "Collecting pathlib>=1.0.1\n",
      "  Using cached pathlib-1.0.1-py3-none-any.whl (14 kB)\n",
      "Collecting keras2onnx>=1.7.0\n",
      "  Using cached keras2onnx-1.7.0-py3-none-any.whl (96 kB)\n",
      "Collecting onnxmltools>=1.6.1\n",
      "  Using cached onnxmltools-1.11.1-py3-none-any.whl (308 kB)\n",
      "Requirement already satisfied: seaborn>=0.11.2 in c:\\users\\ran liao\\miniconda3\\lib\\site-packages (from aimodelshare) (0.12.1)\n",
      "Requirement already satisfied: wget==3.2 in c:\\users\\ran liao\\miniconda3\\lib\\site-packages (from aimodelshare) (3.2)\n",
      "Collecting boto3==1.21.20\n",
      "  Using cached boto3-1.21.20-py3-none-any.whl (132 kB)\n",
      "Requirement already satisfied: torch>=1.8.1 in c:\\users\\ran liao\\miniconda3\\lib\\site-packages (from aimodelshare) (1.13.1)\n",
      "Requirement already satisfied: wheel<1.0,>=0.23.0 in c:\\users\\ran liao\\miniconda3\\lib\\site-packages (from astunparse==1.6.3->aimodelshare) (0.37.1)\n",
      "Requirement already satisfied: six<2.0,>=1.6.1 in c:\\users\\ran liao\\miniconda3\\lib\\site-packages (from astunparse==1.6.3->aimodelshare) (1.16.0)\n",
      "Collecting jmespath<1.0.0,>=0.7.1\n",
      "  Using cached jmespath-0.10.0-py2.py3-none-any.whl (24 kB)\n",
      "Collecting s3transfer<0.6.0,>=0.5.0\n",
      "  Using cached s3transfer-0.5.2-py3-none-any.whl (79 kB)\n",
      "Requirement already satisfied: urllib3<1.27,>=1.25.4 in c:\\users\\ran liao\\miniconda3\\lib\\site-packages (from botocore==1.24.20->aimodelshare) (1.26.13)\n",
      "Requirement already satisfied: python-dateutil<3.0.0,>=2.1 in c:\\users\\ran liao\\miniconda3\\lib\\site-packages (from botocore==1.24.20->aimodelshare) (2.8.2)\n",
      "Requirement already satisfied: requests!=2.18.0,>=2.14.2 in c:\\users\\ran liao\\miniconda3\\lib\\site-packages (from docker==5.0.0->aimodelshare) (2.28.1)\n",
      "Requirement already satisfied: websocket-client>=0.32.0 in c:\\users\\ran liao\\miniconda3\\lib\\site-packages (from docker==5.0.0->aimodelshare) (0.58.0)\n",
      "Collecting pywin32==227\n",
      "  Using cached pywin32-227-cp39-cp39-win_amd64.whl (9.1 MB)\n",
      "Requirement already satisfied: zipp>=3.1.0 in c:\\users\\ran liao\\miniconda3\\lib\\site-packages (from importlib-resources==5.10.0->aimodelshare) (3.8.0)\n",
      "Requirement already satisfied: typing-extensions>=3.6.2.1 in c:\\users\\ran liao\\miniconda3\\lib\\site-packages (from onnx==1.12.0->aimodelshare) (4.4.0)\n",
      "Requirement already satisfied: protobuf<=3.20.1,>=3.12.2 in c:\\users\\ran liao\\miniconda3\\lib\\site-packages (from onnx==1.12.0->aimodelshare) (3.19.6)\n",
      "Requirement already satisfied: numpy>=1.16.6 in c:\\users\\ran liao\\miniconda3\\lib\\site-packages (from onnx==1.12.0->aimodelshare) (1.23.4)\n",
      "Requirement already satisfied: pyparsing>=2.1.4 in c:\\users\\ran liao\\miniconda3\\lib\\site-packages (from pydot==1.3.0->aimodelshare) (3.0.9)\n",
      "Requirement already satisfied: threadpoolctl>=2.0.0 in c:\\users\\ran liao\\miniconda3\\lib\\site-packages (from scikit-learn==0.24.2->aimodelshare) (3.1.0)\n",
      "Requirement already satisfied: joblib>=0.11 in c:\\users\\ran liao\\miniconda3\\lib\\site-packages (from scikit-learn==0.24.2->aimodelshare) (1.2.0)\n",
      "Requirement already satisfied: scipy>=0.19.1 in c:\\users\\ran liao\\miniconda3\\lib\\site-packages (from scikit-learn==0.24.2->aimodelshare) (1.9.3)\n",
      "Requirement already satisfied: opt-einsum>=2.3.2 in c:\\users\\ran liao\\miniconda3\\lib\\site-packages (from tensorflow==2.9.2->aimodelshare) (3.3.0)\n",
      "Requirement already satisfied: absl-py>=1.0.0 in c:\\users\\ran liao\\miniconda3\\lib\\site-packages (from tensorflow==2.9.2->aimodelshare) (1.3.0)\n",
      "Requirement already satisfied: setuptools in c:\\users\\ran liao\\miniconda3\\lib\\site-packages (from tensorflow==2.9.2->aimodelshare) (65.5.0)\n",
      "Requirement already satisfied: packaging in c:\\users\\ran liao\\miniconda3\\lib\\site-packages (from tensorflow==2.9.2->aimodelshare) (21.3)\n",
      "Collecting tensorboard<2.10,>=2.9\n",
      "  Using cached tensorboard-2.9.1-py3-none-any.whl (5.8 MB)\n",
      "Requirement already satisfied: grpcio<2.0,>=1.24.3 in c:\\users\\ran liao\\miniconda3\\lib\\site-packages (from tensorflow==2.9.2->aimodelshare) (1.51.1)\n",
      "Requirement already satisfied: tensorflow-io-gcs-filesystem>=0.23.1 in c:\\users\\ran liao\\miniconda3\\lib\\site-packages (from tensorflow==2.9.2->aimodelshare) (0.28.0)\n",
      "Requirement already satisfied: termcolor>=1.1.0 in c:\\users\\ran liao\\miniconda3\\lib\\site-packages (from tensorflow==2.9.2->aimodelshare) (2.1.1)\n",
      "Collecting flatbuffers<2,>=1.12\n",
      "  Using cached flatbuffers-1.12-py2.py3-none-any.whl (15 kB)\n",
      "Requirement already satisfied: google-pasta>=0.1.1 in c:\\users\\ran liao\\miniconda3\\lib\\site-packages (from tensorflow==2.9.2->aimodelshare) (0.2.0)\n",
      "Requirement already satisfied: libclang>=13.0.0 in c:\\users\\ran liao\\miniconda3\\lib\\site-packages (from tensorflow==2.9.2->aimodelshare) (14.0.6)\n",
      "Collecting keras<2.10.0,>=2.9.0rc0\n",
      "  Using cached keras-2.9.0-py2.py3-none-any.whl (1.6 MB)\n",
      "Collecting keras-preprocessing>=1.1.1\n",
      "  Using cached Keras_Preprocessing-1.1.2-py2.py3-none-any.whl (42 kB)\n",
      "Collecting tensorflow-estimator<2.10.0,>=2.9.0rc0\n",
      "  Using cached tensorflow_estimator-2.9.0-py2.py3-none-any.whl (438 kB)\n",
      "Requirement already satisfied: wrapt>=1.11.0 in c:\\users\\ran liao\\miniconda3\\lib\\site-packages (from tensorflow==2.9.2->aimodelshare) (1.14.1)\n",
      "Requirement already satisfied: gast<=0.4.0,>=0.2.1 in c:\\users\\ran liao\\miniconda3\\lib\\site-packages (from tensorflow==2.9.2->aimodelshare) (0.4.0)\n",
      "Requirement already satisfied: h5py>=2.9.0 in c:\\users\\ran liao\\miniconda3\\lib\\site-packages (from tensorflow==2.9.2->aimodelshare) (3.7.0)\n",
      "Collecting fire\n",
      "  Using cached fire-0.5.0-py2.py3-none-any.whl\n",
      "Collecting sympy\n",
      "  Using cached sympy-1.11.1-py3-none-any.whl (6.5 MB)\n",
      "Collecting coloredlogs\n",
      "  Using cached coloredlogs-15.0.1-py2.py3-none-any.whl (46 kB)\n",
      "Requirement already satisfied: matplotlib!=3.6.1,>=3.1 in c:\\users\\ran liao\\miniconda3\\lib\\site-packages (from seaborn>=0.11.2->aimodelshare) (3.6.2)\n",
      "Requirement already satisfied: pandas>=0.25 in c:\\users\\ran liao\\miniconda3\\lib\\site-packages (from seaborn>=0.11.2->aimodelshare) (1.5.2)\n",
      "Requirement already satisfied: contourpy>=1.0.1 in c:\\users\\ran liao\\miniconda3\\lib\\site-packages (from matplotlib!=3.6.1,>=3.1->seaborn>=0.11.2->aimodelshare) (1.0.5)\n",
      "Requirement already satisfied: fonttools>=4.22.0 in c:\\users\\ran liao\\miniconda3\\lib\\site-packages (from matplotlib!=3.6.1,>=3.1->seaborn>=0.11.2->aimodelshare) (4.25.0)\n",
      "Requirement already satisfied: pillow>=6.2.0 in c:\\users\\ran liao\\miniconda3\\lib\\site-packages (from matplotlib!=3.6.1,>=3.1->seaborn>=0.11.2->aimodelshare) (9.2.0)\n",
      "Requirement already satisfied: kiwisolver>=1.0.1 in c:\\users\\ran liao\\miniconda3\\lib\\site-packages (from matplotlib!=3.6.1,>=3.1->seaborn>=0.11.2->aimodelshare) (1.4.2)\n",
      "Requirement already satisfied: cycler>=0.10 in c:\\users\\ran liao\\miniconda3\\lib\\site-packages (from matplotlib!=3.6.1,>=3.1->seaborn>=0.11.2->aimodelshare) (0.11.0)\n",
      "Requirement already satisfied: pytz>=2020.1 in c:\\users\\ran liao\\miniconda3\\lib\\site-packages (from pandas>=0.25->seaborn>=0.11.2->aimodelshare) (2022.1)\n",
      "Requirement already satisfied: certifi>=2017.4.17 in c:\\users\\ran liao\\miniconda3\\lib\\site-packages (from requests!=2.18.0,>=2.14.2->docker==5.0.0->aimodelshare) (2022.9.24)\n",
      "Requirement already satisfied: idna<4,>=2.5 in c:\\users\\ran liao\\miniconda3\\lib\\site-packages (from requests!=2.18.0,>=2.14.2->docker==5.0.0->aimodelshare) (3.4)\n",
      "Requirement already satisfied: charset-normalizer<3,>=2 in c:\\users\\ran liao\\miniconda3\\lib\\site-packages (from requests!=2.18.0,>=2.14.2->docker==5.0.0->aimodelshare) (2.0.4)\n",
      "Requirement already satisfied: markdown>=2.6.8 in c:\\users\\ran liao\\miniconda3\\lib\\site-packages (from tensorboard<2.10,>=2.9->tensorflow==2.9.2->aimodelshare) (3.4.1)\n",
      "Requirement already satisfied: werkzeug>=1.0.1 in c:\\users\\ran liao\\miniconda3\\lib\\site-packages (from tensorboard<2.10,>=2.9->tensorflow==2.9.2->aimodelshare) (2.2.2)\n",
      "Requirement already satisfied: google-auth<3,>=1.6.3 in c:\\users\\ran liao\\miniconda3\\lib\\site-packages (from tensorboard<2.10,>=2.9->tensorflow==2.9.2->aimodelshare) (2.15.0)\n",
      "Requirement already satisfied: tensorboard-plugin-wit>=1.6.0 in c:\\users\\ran liao\\miniconda3\\lib\\site-packages (from tensorboard<2.10,>=2.9->tensorflow==2.9.2->aimodelshare) (1.8.1)\n",
      "Requirement already satisfied: tensorboard-data-server<0.7.0,>=0.6.0 in c:\\users\\ran liao\\miniconda3\\lib\\site-packages (from tensorboard<2.10,>=2.9->tensorflow==2.9.2->aimodelshare) (0.6.1)\n",
      "Requirement already satisfied: google-auth-oauthlib<0.5,>=0.4.1 in c:\\users\\ran liao\\miniconda3\\lib\\site-packages (from tensorboard<2.10,>=2.9->tensorflow==2.9.2->aimodelshare) (0.4.6)\n",
      "Collecting humanfriendly>=9.1\n",
      "  Using cached humanfriendly-10.0-py2.py3-none-any.whl (86 kB)\n",
      "Collecting mpmath>=0.19\n",
      "  Using cached mpmath-1.2.1-py3-none-any.whl (532 kB)\n",
      "Requirement already satisfied: pyasn1-modules>=0.2.1 in c:\\users\\ran liao\\miniconda3\\lib\\site-packages (from google-auth<3,>=1.6.3->tensorboard<2.10,>=2.9->tensorflow==2.9.2->aimodelshare) (0.2.8)\n",
      "Requirement already satisfied: rsa<5,>=3.1.4 in c:\\users\\ran liao\\miniconda3\\lib\\site-packages (from google-auth<3,>=1.6.3->tensorboard<2.10,>=2.9->tensorflow==2.9.2->aimodelshare) (4.9)\n",
      "Requirement already satisfied: cachetools<6.0,>=2.0.0 in c:\\users\\ran liao\\miniconda3\\lib\\site-packages (from google-auth<3,>=1.6.3->tensorboard<2.10,>=2.9->tensorflow==2.9.2->aimodelshare) (5.2.0)\n",
      "Requirement already satisfied: requests-oauthlib>=0.7.0 in c:\\users\\ran liao\\miniconda3\\lib\\site-packages (from google-auth-oauthlib<0.5,>=0.4.1->tensorboard<2.10,>=2.9->tensorflow==2.9.2->aimodelshare) (1.3.1)\n",
      "Collecting pyreadline3\n",
      "  Using cached pyreadline3-3.4.1-py3-none-any.whl (95 kB)\n",
      "Requirement already satisfied: importlib-metadata>=4.4 in c:\\users\\ran liao\\miniconda3\\lib\\site-packages (from markdown>=2.6.8->tensorboard<2.10,>=2.9->tensorflow==2.9.2->aimodelshare) (4.11.3)\n",
      "Requirement already satisfied: MarkupSafe>=2.1.1 in c:\\users\\ran liao\\miniconda3\\lib\\site-packages (from werkzeug>=1.0.1->tensorboard<2.10,>=2.9->tensorflow==2.9.2->aimodelshare) (2.1.1)\n",
      "Requirement already satisfied: pyasn1<0.5.0,>=0.4.6 in c:\\users\\ran liao\\miniconda3\\lib\\site-packages (from pyasn1-modules>=0.2.1->google-auth<3,>=1.6.3->tensorboard<2.10,>=2.9->tensorflow==2.9.2->aimodelshare) (0.4.8)\n",
      "Requirement already satisfied: oauthlib>=3.0.0 in c:\\users\\ran liao\\miniconda3\\lib\\site-packages (from requests-oauthlib>=0.7.0->google-auth-oauthlib<0.5,>=0.4.1->tensorboard<2.10,>=2.9->tensorflow==2.9.2->aimodelshare) (3.2.2)\n",
      "Installing collected packages: pywin32, pyreadline3, Pympler, pathlib, mpmath, keras, flatbuffers, tensorflow-estimator, sympy, shortuuid, regex, PyJWT, pydot, psutil, onnx, keras-preprocessing, jmespath, importlib-resources, humanfriendly, fire, tf2onnx, scikit-learn, onnxconverter-common, docker, coloredlogs, botocore, skl2onnx, s3transfer, onnxruntime, keras2onnx, tensorboard, onnxmltools, boto3, tensorflow, aimodelshare\n",
      "  Attempting uninstall: pywin32\n",
      "    Found existing installation: pywin32 305.1\n",
      "    Uninstalling pywin32-305.1:\n",
      "      Successfully uninstalled pywin32-305.1\n",
      "  Rolling back uninstall of pywin32\n",
      "  Moving to c:\\users\\ran liao\\miniconda3\\lib\\site-packages\\__pycache__\\pythoncom.cpython-39.pyc\n",
      "   from C:\\Users\\Ran Liao\\AppData\\Local\\Temp\\pip-uninstall-9kluuzyj\\pythoncom.cpython-39.pyc\n",
      "  Moving to c:\\users\\ran liao\\miniconda3\\lib\\site-packages\\adodbapi\n",
      "   from C:\\Users\\Ran Liao\\miniconda3\\Lib\\site-packages\\~dodbapi\n",
      "  Moving to c:\\users\\ran liao\\miniconda3\\lib\\site-packages\\isapi\n",
      "   from C:\\Users\\Ran Liao\\miniconda3\\Lib\\site-packages\\~sapi\n",
      "  Moving to c:\\users\\ran liao\\miniconda3\\lib\\site-packages\\pythoncom.py\n",
      "   from C:\\Users\\Ran Liao\\AppData\\Local\\Temp\\pip-uninstall-cuhf1_0h\\pythoncom.py\n",
      "  Moving to c:\\users\\ran liao\\miniconda3\\lib\\site-packages\\pythonwin\n",
      "   from C:\\Users\\Ran Liao\\miniconda3\\Lib\\site-packages\\~ythonwin\n",
      "  Moving to c:\\users\\ran liao\\miniconda3\\lib\\site-packages\\pywin32-305.1-py3.9.egg-info\n",
      "   from C:\\Users\\Ran Liao\\miniconda3\\Lib\\site-packages\\~ywin32-305.1-py3.9.egg-info\n",
      "  Moving to c:\\users\\ran liao\\miniconda3\\lib\\site-packages\\win32\\lib\\\n",
      "   from C:\\Users\\Ran Liao\\miniconda3\\Lib\\site-packages\\win32\\~ib\n",
      "  Moving to c:\\users\\ran liao\\miniconda3\\lib\\site-packages\\win32com\n",
      "   from C:\\Users\\Ran Liao\\miniconda3\\Lib\\site-packages\\~in32com\n",
      "  Moving to c:\\users\\ran liao\\miniconda3\\lib\\site-packages\\win32comext\n",
      "   from C:\\Users\\Ran Liao\\miniconda3\\Lib\\site-packages\\~in32comext\n"
     ]
    },
    {
     "name": "stderr",
     "output_type": "stream",
     "text": [
      "ERROR: Could not install packages due to an OSError: [WinError 5] Access is denied: 'C:\\\\Users\\\\Ran Liao\\\\miniconda3\\\\Lib\\\\site-packages\\\\win32\\\\_win32sysloader.pyd'\n",
      "Consider using the `--user` option or check the permissions.\n",
      "\n"
     ]
    }
   ],
   "source": [
    "#install aimodelshare library\n",
    "! pip install aimodelshare --upgrade"
   ]
  },
  {
   "cell_type": "markdown",
   "id": "3ef1a1b1",
   "metadata": {},
   "source": [
    "# Data Loading"
   ]
  },
  {
   "cell_type": "code",
   "execution_count": 4,
   "id": "92933e1c",
   "metadata": {},
   "outputs": [],
   "source": [
    "#Get competition data from course folder and unzip\n",
    "# importing the zipfile module\n",
    "from zipfile import ZipFile\n",
    "  \n",
    "# loading the temp.zip and creating a zip object\n",
    "with ZipFile(\"world_happiness_competition_data.zip\", 'r') as zObject:\n",
    "  \n",
    "    # Extracting all the members of the zip \n",
    "    # into a specific location.\n",
    "    zObject.extractall()"
   ]
  },
  {
   "cell_type": "code",
   "execution_count": 5,
   "id": "b2042d27",
   "metadata": {},
   "outputs": [
    {
     "data": {
      "text/html": [
       "<div>\n",
       "<style scoped>\n",
       "    .dataframe tbody tr th:only-of-type {\n",
       "        vertical-align: middle;\n",
       "    }\n",
       "\n",
       "    .dataframe tbody tr th {\n",
       "        vertical-align: top;\n",
       "    }\n",
       "\n",
       "    .dataframe thead th {\n",
       "        text-align: right;\n",
       "    }\n",
       "</style>\n",
       "<table border=\"1\" class=\"dataframe\">\n",
       "  <thead>\n",
       "    <tr style=\"text-align: right;\">\n",
       "      <th></th>\n",
       "      <th>Country or region</th>\n",
       "      <th>GDP per capita</th>\n",
       "      <th>Social support</th>\n",
       "      <th>Healthy life expectancy</th>\n",
       "      <th>Freedom to make life choices</th>\n",
       "      <th>Generosity</th>\n",
       "      <th>Perceptions of corruption</th>\n",
       "      <th>name</th>\n",
       "      <th>region</th>\n",
       "      <th>sub-region</th>\n",
       "      <th>Terrorist_attacks</th>\n",
       "    </tr>\n",
       "  </thead>\n",
       "  <tbody>\n",
       "    <tr>\n",
       "      <th>0</th>\n",
       "      <td>Peru</td>\n",
       "      <td>0.960</td>\n",
       "      <td>1.274</td>\n",
       "      <td>0.854</td>\n",
       "      <td>0.455</td>\n",
       "      <td>0.083</td>\n",
       "      <td>0.027</td>\n",
       "      <td>Peru</td>\n",
       "      <td>Americas</td>\n",
       "      <td>Latin America and the Caribbean</td>\n",
       "      <td>18.000000</td>\n",
       "    </tr>\n",
       "    <tr>\n",
       "      <th>1</th>\n",
       "      <td>Nicaragua</td>\n",
       "      <td>0.694</td>\n",
       "      <td>1.325</td>\n",
       "      <td>0.835</td>\n",
       "      <td>0.435</td>\n",
       "      <td>0.200</td>\n",
       "      <td>0.127</td>\n",
       "      <td>Nicaragua</td>\n",
       "      <td>Americas</td>\n",
       "      <td>Latin America and the Caribbean</td>\n",
       "      <td>125.611111</td>\n",
       "    </tr>\n",
       "    <tr>\n",
       "      <th>2</th>\n",
       "      <td>Greece</td>\n",
       "      <td>1.181</td>\n",
       "      <td>1.156</td>\n",
       "      <td>0.999</td>\n",
       "      <td>0.067</td>\n",
       "      <td>0.000</td>\n",
       "      <td>0.034</td>\n",
       "      <td>Greece</td>\n",
       "      <td>Europe</td>\n",
       "      <td>Southern Europe</td>\n",
       "      <td>112.000000</td>\n",
       "    </tr>\n",
       "    <tr>\n",
       "      <th>3</th>\n",
       "      <td>Qatar</td>\n",
       "      <td>1.684</td>\n",
       "      <td>1.313</td>\n",
       "      <td>0.871</td>\n",
       "      <td>0.555</td>\n",
       "      <td>0.220</td>\n",
       "      <td>0.167</td>\n",
       "      <td>Qatar</td>\n",
       "      <td>Asia</td>\n",
       "      <td>Western Asia</td>\n",
       "      <td>57.333333</td>\n",
       "    </tr>\n",
       "    <tr>\n",
       "      <th>4</th>\n",
       "      <td>Uzbekistan</td>\n",
       "      <td>0.745</td>\n",
       "      <td>1.529</td>\n",
       "      <td>0.756</td>\n",
       "      <td>0.631</td>\n",
       "      <td>0.322</td>\n",
       "      <td>0.240</td>\n",
       "      <td>Uzbekistan</td>\n",
       "      <td>Asia</td>\n",
       "      <td>Central Asia</td>\n",
       "      <td>125.611111</td>\n",
       "    </tr>\n",
       "  </tbody>\n",
       "</table>\n",
       "</div>"
      ],
      "text/plain": [
       "  Country or region  GDP per capita  Social support  Healthy life expectancy  \\\n",
       "0              Peru           0.960           1.274                    0.854   \n",
       "1         Nicaragua           0.694           1.325                    0.835   \n",
       "2            Greece           1.181           1.156                    0.999   \n",
       "3             Qatar           1.684           1.313                    0.871   \n",
       "4        Uzbekistan           0.745           1.529                    0.756   \n",
       "\n",
       "   Freedom to make life choices  Generosity  Perceptions of corruption  \\\n",
       "0                         0.455       0.083                      0.027   \n",
       "1                         0.435       0.200                      0.127   \n",
       "2                         0.067       0.000                      0.034   \n",
       "3                         0.555       0.220                      0.167   \n",
       "4                         0.631       0.322                      0.240   \n",
       "\n",
       "         name    region                       sub-region  Terrorist_attacks  \n",
       "0        Peru  Americas  Latin America and the Caribbean          18.000000  \n",
       "1   Nicaragua  Americas  Latin America and the Caribbean         125.611111  \n",
       "2      Greece    Europe                  Southern Europe         112.000000  \n",
       "3       Qatar      Asia                     Western Asia          57.333333  \n",
       "4  Uzbekistan      Asia                     Central Asia         125.611111  "
      ]
     },
     "execution_count": 5,
     "metadata": {},
     "output_type": "execute_result"
    }
   ],
   "source": [
    "# Load data\n",
    "import pandas as pd\n",
    "X_train = pd.read_csv('world_happiness_competition_data/X_train.csv')\n",
    "X_test = pd.read_csv('world_happiness_competition_data/X_test.csv')\n",
    "y_train = pd.read_csv('world_happiness_competition_data/y_train.csv')\n",
    "y_train_labels = y_train.idxmax(axis=1)\n",
    "\n",
    "X_train.head()"
   ]
  },
  {
   "cell_type": "code",
   "execution_count": 6,
   "id": "3cf9ee94",
   "metadata": {},
   "outputs": [
    {
     "data": {
      "text/plain": [
       "(88, 11)"
      ]
     },
     "execution_count": 6,
     "metadata": {},
     "output_type": "execute_result"
    }
   ],
   "source": [
    "X_train.shape"
   ]
  },
  {
   "cell_type": "markdown",
   "id": "12a289e4",
   "metadata": {},
   "source": [
    "# Data Exploration"
   ]
  },
  {
   "cell_type": "code",
   "execution_count": 7,
   "id": "9c69cd75",
   "metadata": {},
   "outputs": [],
   "source": [
    "df = X_train.copy()\n",
    "df['Happiness score'] = y_train_labels"
   ]
  },
  {
   "cell_type": "code",
   "execution_count": 8,
   "id": "189a4b41",
   "metadata": {},
   "outputs": [
    {
     "data": {
      "text/plain": [
       "<AxesSubplot: >"
      ]
     },
     "execution_count": 8,
     "metadata": {},
     "output_type": "execute_result"
    },
    {
     "data": {
      "image/png": "[encoded data removed]",
      "text/plain": [
       "<Figure size 640x480 with 1 Axes>"
      ]
     },
     "metadata": {},
     "output_type": "display_data"
    }
   ],
   "source": [
    "# pretty balance\n",
    "df['Happiness score'].value_counts().plot(kind='bar')"
   ]
  },
  {
   "cell_type": "markdown",
   "id": "dbffc191",
   "metadata": {},
   "source": [
    "## Missingness"
   ]
  },
  {
   "cell_type": "code",
   "execution_count": 9,
   "id": "85925a40",
   "metadata": {},
   "outputs": [
    {
     "data": {
      "text/plain": [
       "Country or region               0\n",
       "GDP per capita                  0\n",
       "Social support                  0\n",
       "Healthy life expectancy         0\n",
       "Freedom to make life choices    0\n",
       "Generosity                      0\n",
       "Perceptions of corruption       0\n",
       "name                            0\n",
       "region                          0\n",
       "sub-region                      0\n",
       "Terrorist_attacks               0\n",
       "Happiness score                 0\n",
       "dtype: int64"
      ]
     },
     "execution_count": 9,
     "metadata": {},
     "output_type": "execute_result"
    }
   ],
   "source": [
    "# no missing value\n",
    "df.isnull().sum()"
   ]
  },
  {
   "cell_type": "markdown",
   "id": "e21d8500",
   "metadata": {},
   "source": [
    "## Outliers Detection"
   ]
  },
  {
   "cell_type": "code",
   "execution_count": 10,
   "id": "03895b9f",
   "metadata": {},
   "outputs": [
    {
     "data": {
      "text/html": [
       "<div>\n",
       "<style scoped>\n",
       "    .dataframe tbody tr th:only-of-type {\n",
       "        vertical-align: middle;\n",
       "    }\n",
       "\n",
       "    .dataframe tbody tr th {\n",
       "        vertical-align: top;\n",
       "    }\n",
       "\n",
       "    .dataframe thead th {\n",
       "        text-align: right;\n",
       "    }\n",
       "</style>\n",
       "<table border=\"1\" class=\"dataframe\">\n",
       "  <thead>\n",
       "    <tr style=\"text-align: right;\">\n",
       "      <th></th>\n",
       "      <th>GDP per capita</th>\n",
       "      <th>Social support</th>\n",
       "      <th>Healthy life expectancy</th>\n",
       "      <th>Freedom to make life choices</th>\n",
       "      <th>Generosity</th>\n",
       "      <th>Perceptions of corruption</th>\n",
       "      <th>Terrorist_attacks</th>\n",
       "    </tr>\n",
       "  </thead>\n",
       "  <tbody>\n",
       "    <tr>\n",
       "      <th>count</th>\n",
       "      <td>88.000000</td>\n",
       "      <td>88.000000</td>\n",
       "      <td>88.000000</td>\n",
       "      <td>88.000000</td>\n",
       "      <td>88.000000</td>\n",
       "      <td>88.000000</td>\n",
       "      <td>88.000000</td>\n",
       "    </tr>\n",
       "    <tr>\n",
       "      <th>mean</th>\n",
       "      <td>0.917148</td>\n",
       "      <td>1.213807</td>\n",
       "      <td>0.745693</td>\n",
       "      <td>0.379273</td>\n",
       "      <td>0.184705</td>\n",
       "      <td>0.115159</td>\n",
       "      <td>296.720179</td>\n",
       "    </tr>\n",
       "    <tr>\n",
       "      <th>std</th>\n",
       "      <td>0.412638</td>\n",
       "      <td>0.293830</td>\n",
       "      <td>0.237671</td>\n",
       "      <td>0.156634</td>\n",
       "      <td>0.102516</td>\n",
       "      <td>0.103309</td>\n",
       "      <td>764.351472</td>\n",
       "    </tr>\n",
       "    <tr>\n",
       "      <th>min</th>\n",
       "      <td>0.026000</td>\n",
       "      <td>0.000000</td>\n",
       "      <td>0.105000</td>\n",
       "      <td>0.000000</td>\n",
       "      <td>0.000000</td>\n",
       "      <td>0.000000</td>\n",
       "      <td>1.000000</td>\n",
       "    </tr>\n",
       "    <tr>\n",
       "      <th>25%</th>\n",
       "      <td>0.626000</td>\n",
       "      <td>1.113250</td>\n",
       "      <td>0.567000</td>\n",
       "      <td>0.267750</td>\n",
       "      <td>0.106750</td>\n",
       "      <td>0.049250</td>\n",
       "      <td>4.750000</td>\n",
       "    </tr>\n",
       "    <tr>\n",
       "      <th>50%</th>\n",
       "      <td>0.960000</td>\n",
       "      <td>1.249500</td>\n",
       "      <td>0.806500</td>\n",
       "      <td>0.408000</td>\n",
       "      <td>0.179500</td>\n",
       "      <td>0.083500</td>\n",
       "      <td>38.500000</td>\n",
       "    </tr>\n",
       "    <tr>\n",
       "      <th>75%</th>\n",
       "      <td>1.249000</td>\n",
       "      <td>1.463500</td>\n",
       "      <td>0.898250</td>\n",
       "      <td>0.493500</td>\n",
       "      <td>0.244500</td>\n",
       "      <td>0.145750</td>\n",
       "      <td>125.611111</td>\n",
       "    </tr>\n",
       "    <tr>\n",
       "      <th>max</th>\n",
       "      <td>1.684000</td>\n",
       "      <td>1.624000</td>\n",
       "      <td>1.141000</td>\n",
       "      <td>0.631000</td>\n",
       "      <td>0.566000</td>\n",
       "      <td>0.453000</td>\n",
       "      <td>6023.000000</td>\n",
       "    </tr>\n",
       "  </tbody>\n",
       "</table>\n",
       "</div>"
      ],
      "text/plain": [
       "       GDP per capita  Social support  Healthy life expectancy  \\\n",
       "count       88.000000       88.000000                88.000000   \n",
       "mean         0.917148        1.213807                 0.745693   \n",
       "std          0.412638        0.293830                 0.237671   \n",
       "min          0.026000        0.000000                 0.105000   \n",
       "25%          0.626000        1.113250                 0.567000   \n",
       "50%          0.960000        1.249500                 0.806500   \n",
       "75%          1.249000        1.463500                 0.898250   \n",
       "max          1.684000        1.624000                 1.141000   \n",
       "\n",
       "       Freedom to make life choices  Generosity  Perceptions of corruption  \\\n",
       "count                     88.000000   88.000000                  88.000000   \n",
       "mean                       0.379273    0.184705                   0.115159   \n",
       "std                        0.156634    0.102516                   0.103309   \n",
       "min                        0.000000    0.000000                   0.000000   \n",
       "25%                        0.267750    0.106750                   0.049250   \n",
       "50%                        0.408000    0.179500                   0.083500   \n",
       "75%                        0.493500    0.244500                   0.145750   \n",
       "max                        0.631000    0.566000                   0.453000   \n",
       "\n",
       "       Terrorist_attacks  \n",
       "count          88.000000  \n",
       "mean          296.720179  \n",
       "std           764.351472  \n",
       "min             1.000000  \n",
       "25%             4.750000  \n",
       "50%            38.500000  \n",
       "75%           125.611111  \n",
       "max          6023.000000  "
      ]
     },
     "execution_count": 10,
     "metadata": {},
     "output_type": "execute_result"
    }
   ],
   "source": [
    "df.describe()"
   ]
  },
  {
   "cell_type": "code",
   "execution_count": 11,
   "id": "f586f22d",
   "metadata": {},
   "outputs": [
    {
     "data": {
      "text/plain": [
       "<AxesSubplot: >"
      ]
     },
     "execution_count": 11,
     "metadata": {},
     "output_type": "execute_result"
    },
    {
     "data": {
      "image/png": "[encoded data removed]",
      "text/plain": [
       "<Figure size 640x480 with 1 Axes>"
      ]
     },
     "metadata": {},
     "output_type": "display_data"
    }
   ],
   "source": [
    "import seaborn as sns\n",
    "\n",
    "sns.boxplot(df['Terrorist_attacks'])"
   ]
  },
  {
   "cell_type": "code",
   "execution_count": 12,
   "id": "958e712a",
   "metadata": {},
   "outputs": [
    {
     "data": {
      "text/plain": [
       "<AxesSubplot: xlabel='Happiness score', ylabel='Terrorist_attacks'>"
      ]
     },
     "execution_count": 12,
     "metadata": {},
     "output_type": "execute_result"
    },
    {
     "data": {
      "image/png": "[encoded data removed]",
      "text/plain": [
       "<Figure size 640x480 with 1 Axes>"
      ]
     },
     "metadata": {},
     "output_type": "display_data"
    }
   ],
   "source": [
    "sns.boxplot(x=\"Happiness score\", y=\"Terrorist_attacks\", data=df)"
   ]
  },
  {
   "cell_type": "code",
   "execution_count": 13,
   "id": "07f53c10",
   "metadata": {},
   "outputs": [],
   "source": [
    "# df = df.loc[df['Terrorist_attacks'] <= 6000]"
   ]
  },
  {
   "cell_type": "markdown",
   "id": "5b121d3f",
   "metadata": {},
   "source": [
    "## Bivariate Relationships"
   ]
  },
  {
   "cell_type": "code",
   "execution_count": 14,
   "id": "352cdbf4",
   "metadata": {},
   "outputs": [
    {
     "name": "stderr",
     "output_type": "stream",
     "text": [
      "C:\\Users\\Ran Liao\\AppData\\Local\\Temp\\ipykernel_3140\\3784545759.py:1: FutureWarning: The default value of numeric_only in DataFrame.corr is deprecated. In a future version, it will default to False. Select only valid columns or specify the value of numeric_only to silence this warning.\n",
      "  corr = df.corr()\n"
     ]
    },
    {
     "data": {
      "text/html": [
       "<style type=\"text/css\">\n",
       "#T_edfd6_row0_col0, #T_edfd6_row1_col1, #T_edfd6_row2_col2, #T_edfd6_row3_col3, #T_edfd6_row4_col4, #T_edfd6_row5_col5, #T_edfd6_row6_col6 {\n",
       "  background-color: #b40426;\n",
       "  color: #f1f1f1;\n",
       "}\n",
       "#T_edfd6_row0_col1 {\n",
       "  background-color: #eb7d62;\n",
       "  color: #f1f1f1;\n",
       "}\n",
       "#T_edfd6_row0_col2 {\n",
       "  background-color: #d95847;\n",
       "  color: #f1f1f1;\n",
       "}\n",
       "#T_edfd6_row0_col3 {\n",
       "  background-color: #f2cab5;\n",
       "  color: #000000;\n",
       "}\n",
       "#T_edfd6_row0_col4, #T_edfd6_row2_col6, #T_edfd6_row6_col0, #T_edfd6_row6_col1, #T_edfd6_row6_col2, #T_edfd6_row6_col3, #T_edfd6_row6_col5 {\n",
       "  background-color: #3b4cc0;\n",
       "  color: #f1f1f1;\n",
       "}\n",
       "#T_edfd6_row0_col5 {\n",
       "  background-color: #ccd9ed;\n",
       "  color: #000000;\n",
       "}\n",
       "#T_edfd6_row0_col6, #T_edfd6_row2_col4 {\n",
       "  background-color: #465ecf;\n",
       "  color: #f1f1f1;\n",
       "}\n",
       "#T_edfd6_row1_col0 {\n",
       "  background-color: #ea7b60;\n",
       "  color: #f1f1f1;\n",
       "}\n",
       "#T_edfd6_row1_col2 {\n",
       "  background-color: #ee8669;\n",
       "  color: #f1f1f1;\n",
       "}\n",
       "#T_edfd6_row1_col3 {\n",
       "  background-color: #f5c1a9;\n",
       "  color: #000000;\n",
       "}\n",
       "#T_edfd6_row1_col4, #T_edfd6_row1_col6 {\n",
       "  background-color: #4961d2;\n",
       "  color: #f1f1f1;\n",
       "}\n",
       "#T_edfd6_row1_col5 {\n",
       "  background-color: #bad0f8;\n",
       "  color: #000000;\n",
       "}\n",
       "#T_edfd6_row2_col0 {\n",
       "  background-color: #dc5d4a;\n",
       "  color: #f1f1f1;\n",
       "}\n",
       "#T_edfd6_row2_col1 {\n",
       "  background-color: #f08b6e;\n",
       "  color: #f1f1f1;\n",
       "}\n",
       "#T_edfd6_row2_col3 {\n",
       "  background-color: #edd1c2;\n",
       "  color: #000000;\n",
       "}\n",
       "#T_edfd6_row2_col5 {\n",
       "  background-color: #d2dbe8;\n",
       "  color: #000000;\n",
       "}\n",
       "#T_edfd6_row3_col0 {\n",
       "  background-color: #f2cbb7;\n",
       "  color: #000000;\n",
       "}\n",
       "#T_edfd6_row3_col1 {\n",
       "  background-color: #f5c4ac;\n",
       "  color: #000000;\n",
       "}\n",
       "#T_edfd6_row3_col2 {\n",
       "  background-color: #f0cdbb;\n",
       "  color: #000000;\n",
       "}\n",
       "#T_edfd6_row3_col4, #T_edfd6_row5_col4 {\n",
       "  background-color: #b7cff9;\n",
       "  color: #000000;\n",
       "}\n",
       "#T_edfd6_row3_col5 {\n",
       "  background-color: #edd2c3;\n",
       "  color: #000000;\n",
       "}\n",
       "#T_edfd6_row3_col6 {\n",
       "  background-color: #445acc;\n",
       "  color: #f1f1f1;\n",
       "}\n",
       "#T_edfd6_row4_col0 {\n",
       "  background-color: #7ea1fa;\n",
       "  color: #f1f1f1;\n",
       "}\n",
       "#T_edfd6_row4_col1 {\n",
       "  background-color: #89acfd;\n",
       "  color: #000000;\n",
       "}\n",
       "#T_edfd6_row4_col2 {\n",
       "  background-color: #96b7ff;\n",
       "  color: #000000;\n",
       "}\n",
       "#T_edfd6_row4_col3 {\n",
       "  background-color: #dedcdb;\n",
       "  color: #000000;\n",
       "}\n",
       "#T_edfd6_row4_col5 {\n",
       "  background-color: #c6d6f1;\n",
       "  color: #000000;\n",
       "}\n",
       "#T_edfd6_row4_col6 {\n",
       "  background-color: #a3c2fe;\n",
       "  color: #000000;\n",
       "}\n",
       "#T_edfd6_row5_col0 {\n",
       "  background-color: #e1dad6;\n",
       "  color: #000000;\n",
       "}\n",
       "#T_edfd6_row5_col1 {\n",
       "  background-color: #d3dbe7;\n",
       "  color: #000000;\n",
       "}\n",
       "#T_edfd6_row5_col2 {\n",
       "  background-color: #ead5c9;\n",
       "  color: #000000;\n",
       "}\n",
       "#T_edfd6_row5_col3 {\n",
       "  background-color: #f5c2aa;\n",
       "  color: #000000;\n",
       "}\n",
       "#T_edfd6_row5_col6 {\n",
       "  background-color: #7396f5;\n",
       "  color: #f1f1f1;\n",
       "}\n",
       "#T_edfd6_row6_col4 {\n",
       "  background-color: #5875e1;\n",
       "  color: #f1f1f1;\n",
       "}\n",
       "</style>\n",
       "<table id=\"T_edfd6\">\n",
       "  <thead>\n",
       "    <tr>\n",
       "      <th class=\"blank level0\" >&nbsp;</th>\n",
       "      <th id=\"T_edfd6_level0_col0\" class=\"col_heading level0 col0\" >GDP per capita</th>\n",
       "      <th id=\"T_edfd6_level0_col1\" class=\"col_heading level0 col1\" >Social support</th>\n",
       "      <th id=\"T_edfd6_level0_col2\" class=\"col_heading level0 col2\" >Healthy life expectancy</th>\n",
       "      <th id=\"T_edfd6_level0_col3\" class=\"col_heading level0 col3\" >Freedom to make life choices</th>\n",
       "      <th id=\"T_edfd6_level0_col4\" class=\"col_heading level0 col4\" >Generosity</th>\n",
       "      <th id=\"T_edfd6_level0_col5\" class=\"col_heading level0 col5\" >Perceptions of corruption</th>\n",
       "      <th id=\"T_edfd6_level0_col6\" class=\"col_heading level0 col6\" >Terrorist_attacks</th>\n",
       "    </tr>\n",
       "  </thead>\n",
       "  <tbody>\n",
       "    <tr>\n",
       "      <th id=\"T_edfd6_level0_row0\" class=\"row_heading level0 row0\" >GDP per capita</th>\n",
       "      <td id=\"T_edfd6_row0_col0\" class=\"data row0 col0\" >1.000000</td>\n",
       "      <td id=\"T_edfd6_row0_col1\" class=\"data row0 col1\" >0.753791</td>\n",
       "      <td id=\"T_edfd6_row0_col2\" class=\"data row0 col2\" >0.840467</td>\n",
       "      <td id=\"T_edfd6_row0_col3\" class=\"data row0 col3\" >0.458313</td>\n",
       "      <td id=\"T_edfd6_row0_col4\" class=\"data row0 col4\" >-0.069164</td>\n",
       "      <td id=\"T_edfd6_row0_col5\" class=\"data row0 col5\" >0.349372</td>\n",
       "      <td id=\"T_edfd6_row0_col6\" class=\"data row0 col6\" >-0.352544</td>\n",
       "    </tr>\n",
       "    <tr>\n",
       "      <th id=\"T_edfd6_level0_row1\" class=\"row_heading level0 row1\" >Social support</th>\n",
       "      <td id=\"T_edfd6_row1_col0\" class=\"data row1 col0\" >0.753791</td>\n",
       "      <td id=\"T_edfd6_row1_col1\" class=\"data row1 col1\" >1.000000</td>\n",
       "      <td id=\"T_edfd6_row1_col2\" class=\"data row1 col2\" >0.709605</td>\n",
       "      <td id=\"T_edfd6_row1_col3\" class=\"data row1 col3\" >0.502305</td>\n",
       "      <td id=\"T_edfd6_row1_col4\" class=\"data row1 col4\" >-0.015965</td>\n",
       "      <td id=\"T_edfd6_row1_col5\" class=\"data row1 col5\" >0.279549</td>\n",
       "      <td id=\"T_edfd6_row1_col6\" class=\"data row1 col6\" >-0.339582</td>\n",
       "    </tr>\n",
       "    <tr>\n",
       "      <th id=\"T_edfd6_level0_row2\" class=\"row_heading level0 row2\" >Healthy life expectancy</th>\n",
       "      <td id=\"T_edfd6_row2_col0\" class=\"data row2 col0\" >0.840467</td>\n",
       "      <td id=\"T_edfd6_row2_col1\" class=\"data row2 col1\" >0.709605</td>\n",
       "      <td id=\"T_edfd6_row2_col2\" class=\"data row2 col2\" >1.000000</td>\n",
       "      <td id=\"T_edfd6_row2_col3\" class=\"data row2 col3\" >0.419038</td>\n",
       "      <td id=\"T_edfd6_row2_col4\" class=\"data row2 col4\" >-0.024471</td>\n",
       "      <td id=\"T_edfd6_row2_col5\" class=\"data row2 col5\" >0.371450</td>\n",
       "      <td id=\"T_edfd6_row2_col6\" class=\"data row2 col6\" >-0.410411</td>\n",
       "    </tr>\n",
       "    <tr>\n",
       "      <th id=\"T_edfd6_level0_row3\" class=\"row_heading level0 row3\" >Freedom to make life choices</th>\n",
       "      <td id=\"T_edfd6_row3_col0\" class=\"data row3 col0\" >0.458313</td>\n",
       "      <td id=\"T_edfd6_row3_col1\" class=\"data row3 col1\" >0.502305</td>\n",
       "      <td id=\"T_edfd6_row3_col2\" class=\"data row3 col2\" >0.419038</td>\n",
       "      <td id=\"T_edfd6_row3_col3\" class=\"data row3 col3\" >1.000000</td>\n",
       "      <td id=\"T_edfd6_row3_col4\" class=\"data row3 col4\" >0.327923</td>\n",
       "      <td id=\"T_edfd6_row3_col5\" class=\"data row3 col5\" >0.496876</td>\n",
       "      <td id=\"T_edfd6_row3_col6\" class=\"data row3 col6\" >-0.362758</td>\n",
       "    </tr>\n",
       "    <tr>\n",
       "      <th id=\"T_edfd6_level0_row4\" class=\"row_heading level0 row4\" >Generosity</th>\n",
       "      <td id=\"T_edfd6_row4_col0\" class=\"data row4 col0\" >-0.069164</td>\n",
       "      <td id=\"T_edfd6_row4_col1\" class=\"data row4 col1\" >-0.015965</td>\n",
       "      <td id=\"T_edfd6_row4_col2\" class=\"data row4 col2\" >-0.024471</td>\n",
       "      <td id=\"T_edfd6_row4_col3\" class=\"data row4 col3\" >0.327923</td>\n",
       "      <td id=\"T_edfd6_row4_col4\" class=\"data row4 col4\" >1.000000</td>\n",
       "      <td id=\"T_edfd6_row4_col5\" class=\"data row4 col5\" >0.327683</td>\n",
       "      <td id=\"T_edfd6_row4_col6\" class=\"data row4 col6\" >0.032479</td>\n",
       "    </tr>\n",
       "    <tr>\n",
       "      <th id=\"T_edfd6_level0_row5\" class=\"row_heading level0 row5\" >Perceptions of corruption</th>\n",
       "      <td id=\"T_edfd6_row5_col0\" class=\"data row5 col0\" >0.349372</td>\n",
       "      <td id=\"T_edfd6_row5_col1\" class=\"data row5 col1\" >0.279549</td>\n",
       "      <td id=\"T_edfd6_row5_col2\" class=\"data row5 col2\" >0.371450</td>\n",
       "      <td id=\"T_edfd6_row5_col3\" class=\"data row5 col3\" >0.496876</td>\n",
       "      <td id=\"T_edfd6_row5_col4\" class=\"data row5 col4\" >0.327683</td>\n",
       "      <td id=\"T_edfd6_row5_col5\" class=\"data row5 col5\" >1.000000</td>\n",
       "      <td id=\"T_edfd6_row5_col6\" class=\"data row5 col6\" >-0.160908</td>\n",
       "    </tr>\n",
       "    <tr>\n",
       "      <th id=\"T_edfd6_level0_row6\" class=\"row_heading level0 row6\" >Terrorist_attacks</th>\n",
       "      <td id=\"T_edfd6_row6_col0\" class=\"data row6 col0\" >-0.352544</td>\n",
       "      <td id=\"T_edfd6_row6_col1\" class=\"data row6 col1\" >-0.339582</td>\n",
       "      <td id=\"T_edfd6_row6_col2\" class=\"data row6 col2\" >-0.410411</td>\n",
       "      <td id=\"T_edfd6_row6_col3\" class=\"data row6 col3\" >-0.362758</td>\n",
       "      <td id=\"T_edfd6_row6_col4\" class=\"data row6 col4\" >0.032479</td>\n",
       "      <td id=\"T_edfd6_row6_col5\" class=\"data row6 col5\" >-0.160908</td>\n",
       "      <td id=\"T_edfd6_row6_col6\" class=\"data row6 col6\" >1.000000</td>\n",
       "    </tr>\n",
       "  </tbody>\n",
       "</table>\n"
      ],
      "text/plain": [
       "<pandas.io.formats.style.Styler at 0x234a9e954f0>"
      ]
     },
     "execution_count": 14,
     "metadata": {},
     "output_type": "execute_result"
    }
   ],
   "source": [
    "corr = df.corr()\n",
    "corr.style.background_gradient(cmap='coolwarm')"
   ]
  },
  {
   "cell_type": "markdown",
   "id": "3b0eb1bb",
   "metadata": {},
   "source": [
    "GDP per capita seems to be correlated with Healthy life expectancy, more than any other pair of features in the list"
   ]
  },
  {
   "cell_type": "code",
   "execution_count": 15,
   "id": "4ba3fc80",
   "metadata": {},
   "outputs": [
    {
     "data": {
      "image/png": "[encoded data removed]",
      "text/plain": [
       "<Figure size 640x480 with 2 Axes>"
      ]
     },
     "metadata": {},
     "output_type": "display_data"
    }
   ],
   "source": [
    "import matplotlib.pyplot as plt\n",
    "\n",
    "plt.subplot(2, 1, 1)\n",
    "p1 = sns.boxplot(x=\"Happiness score\", y=\"GDP per capita\", data=df)\n",
    "p1.set(xlabel=None)\n",
    "plt.subplot(2, 1, 2)\n",
    "p2 = sns.boxplot(x=\"Happiness score\", y=\"Healthy life expectancy\", data=df)\n",
    "plt.show()"
   ]
  },
  {
   "cell_type": "markdown",
   "id": "16014142",
   "metadata": {},
   "source": [
    "It seems that the higher the GDP per capita, the higher the Happiness score and the longer the healthy life expectancy, the higher the Happiness score, which match general expectation"
   ]
  },
  {
   "cell_type": "code",
   "execution_count": 16,
   "id": "f11596a4",
   "metadata": {},
   "outputs": [
    {
     "data": {
      "image/png": "[encoded data removed]",
      "text/plain": [
       "<Figure size 640x480 with 2 Axes>"
      ]
     },
     "metadata": {},
     "output_type": "display_data"
    }
   ],
   "source": [
    "plt.subplot(2, 1, 1)\n",
    "p1 = sns.boxplot(x=\"Happiness score\", y=\"Social support\", data=df)\n",
    "p1.set(xlabel=None)\n",
    "plt.subplot(2, 1, 2)\n",
    "p2 = sns.boxplot(x=\"Happiness score\", y=\"Freedom to make life choices\", data=df)"
   ]
  },
  {
   "cell_type": "markdown",
   "id": "e48fad10",
   "metadata": {},
   "source": [
    "Similarly, the more Social support, the higher the Happiness score and the more the Freedom to make life choices, the higher the Happiness score, which match general expectation. Note that the difference from category to category is not as distinct as the case for GDP and Healthy life expectancy"
   ]
  },
  {
   "cell_type": "code",
   "execution_count": 17,
   "id": "d2a97f93",
   "metadata": {},
   "outputs": [
    {
     "data": {
      "image/png": "[encoded data removed]",
      "text/plain": [
       "<Figure size 640x480 with 2 Axes>"
      ]
     },
     "metadata": {},
     "output_type": "display_data"
    }
   ],
   "source": [
    "plt.subplot(2, 1, 1)\n",
    "p1 = sns.boxplot(x=\"Happiness score\", y=\"Generosity\", data=df)\n",
    "p1.set(xlabel=None)\n",
    "plt.subplot(2, 1, 2)\n",
    "p2 = sns.boxplot(x=\"Happiness score\", y=\"Perceptions of corruption\", data=df)\n",
    "plt.show()"
   ]
  },
  {
   "cell_type": "markdown",
   "id": "b4019bb6",
   "metadata": {},
   "source": [
    "It is interesting to see that Geneosity is higher in country with very high and very low Hapiness score; Perceptions of corruption is much higher in general in country with very high Hapiness score whereas others within relatively the same range of Perceptions of corruption"
   ]
  },
  {
   "cell_type": "code",
   "execution_count": 18,
   "id": "6a7d1196",
   "metadata": {},
   "outputs": [
    {
     "data": {
      "text/plain": [
       "region    Happiness score\n",
       "Africa    Very Low           13\n",
       "          Low                 8\n",
       "          Average             4\n",
       "Americas  High                7\n",
       "          Very High           2\n",
       "          Very Low            1\n",
       "          Low                 1\n",
       "          Average             1\n",
       "Asia      High                7\n",
       "          Low                 6\n",
       "          Average             5\n",
       "          Very Low            4\n",
       "          Very High           2\n",
       "Europe    Very High          10\n",
       "          High                8\n",
       "          Average             7\n",
       "          Low                 1\n",
       "Oceania   Very High           1\n",
       "dtype: int64"
      ]
     },
     "execution_count": 18,
     "metadata": {},
     "output_type": "execute_result"
    }
   ],
   "source": [
    "df[['region','Happiness score']].groupby('region').value_counts()"
   ]
  },
  {
   "cell_type": "markdown",
   "id": "e96ed2af",
   "metadata": {},
   "source": [
    "Africa is more toward the lower end while Europe is more toward the higher end. Asia and Americas are more spread-out"
   ]
  },
  {
   "cell_type": "code",
   "execution_count": 19,
   "id": "471c2c60",
   "metadata": {},
   "outputs": [
    {
     "data": {
      "text/plain": [
       "sub-region                       Happiness score\n",
       "Australia and New Zealand        Very High           1\n",
       "Central Asia                     High                2\n",
       "                                 Average             1\n",
       "Eastern Asia                     High                2\n",
       "                                 Average             1\n",
       "Eastern Europe                   High                4\n",
       "                                 Average             2\n",
       "Latin America and the Caribbean  High                7\n",
       "                                 Very Low            1\n",
       "                                 Very High           1\n",
       "                                 Low                 1\n",
       "                                 Average             1\n",
       "Northern Africa                  Average             3\n",
       "                                 Very Low            1\n",
       "Northern America                 Very High           1\n",
       "Northern Europe                  Very High           5\n",
       "                                 High                2\n",
       "South-eastern Asia               Very Low            1\n",
       "                                 Low                 1\n",
       "                                 Average             1\n",
       "                                 High                1\n",
       "Southern Asia                    Low                 2\n",
       "                                 Very Low            2\n",
       "Southern Europe                  Average             5\n",
       "                                 High                2\n",
       "                                 Very High           1\n",
       "                                 Low                 1\n",
       "Sub-Saharan Africa               Very Low           12\n",
       "                                 Low                 8\n",
       "                                 Average             1\n",
       "Western Asia                     Low                 3\n",
       "                                 Average             2\n",
       "                                 High                2\n",
       "                                 Very High           2\n",
       "                                 Very Low            1\n",
       "Western Europe                   Very High           4\n",
       "dtype: int64"
      ]
     },
     "execution_count": 19,
     "metadata": {},
     "output_type": "execute_result"
    }
   ],
   "source": [
    "df[['sub-region','Happiness score']].groupby('sub-region').value_counts()"
   ]
  },
  {
   "cell_type": "markdown",
   "id": "b491379a",
   "metadata": {},
   "source": [
    "# Data Preprocessing"
   ]
  },
  {
   "cell_type": "code",
   "execution_count": 20,
   "id": "835bb4c5",
   "metadata": {},
   "outputs": [],
   "source": [
    "from sklearn.preprocessing import StandardScaler, OneHotEncoder\n",
    "from sklearn.compose import ColumnTransformer, make_column_transformer\n",
    "from sklearn.pipeline import Pipeline\n",
    "# from sklearn.impute import SimpleImputer\n",
    "\n",
    "# We create the preprocessing pipelines for both numeric and categorical data.\n",
    "\n",
    "numeric_features = X_train.drop(['Country or region', 'name', 'region', 'sub-region'], axis=1)\n",
    "numeric_features=numeric_features.columns.tolist()\n",
    "\n",
    "numeric_transformer = Pipeline(steps=[\n",
    "    # ('imputer', SimpleImputer(strategy='median')),\n",
    "    ('scaler', StandardScaler())])\n",
    "\n",
    "categorical_features = ['region', 'sub-region']\n",
    "# categorical_features = []\n",
    "\n",
    "#Replacing missing values with Modal value and then one hot encoding.\n",
    "categorical_transformer = Pipeline(steps=[\n",
    "    # ('imputer', SimpleImputer(strategy='most_frequent')),\n",
    "    ('onehot', OneHotEncoder(handle_unknown='ignore'))])\n",
    "\n",
    "# final preprocessor object set up with ColumnTransformer\n",
    "preprocessor = ColumnTransformer(\n",
    "    transformers=[\n",
    "        ('num', numeric_transformer, numeric_features),\n",
    "        ('cat', categorical_transformer, categorical_features)])\n",
    "\n",
    "#Fit your preprocessor object\n",
    "preprocess=preprocessor.fit(X_train) \n",
    "\n",
    "encoded_feature = preprocessor.get_feature_names_out()"
   ]
  },
  {
   "cell_type": "code",
   "execution_count": 21,
   "id": "050266e9",
   "metadata": {},
   "outputs": [],
   "source": [
    "# Write function to transform data with preprocessor\n",
    "\n",
    "def preprocessor(data):\n",
    "    data.drop(['Country or region', 'name'], axis=1)\n",
    "    # data.drop(['Country or region', 'name', 'region', 'sub-region'], axis=1)\n",
    "    preprocessed_data=preprocess.transform(data)\n",
    "    return preprocessed_data"
   ]
  },
  {
   "cell_type": "code",
   "execution_count": 22,
   "id": "d3a763e7",
   "metadata": {},
   "outputs": [
    {
     "data": {
      "text/plain": [
       "(88, 26)"
      ]
     },
     "execution_count": 22,
     "metadata": {},
     "output_type": "execute_result"
    }
   ],
   "source": [
    "# check shape of X data after preprocessing it using our new function\n",
    "preprocessor(X_train).shape"
   ]
  },
  {
   "cell_type": "code",
   "execution_count": 23,
   "id": "1a84a19f",
   "metadata": {},
   "outputs": [],
   "source": [
    "# split training data to training and validation for comparison purpose\n",
    "from sklearn.model_selection import train_test_split\n",
    "X_train_new, X_val, y_train, y_val = train_test_split(X_train, y_train_labels, test_size=0.15, random_state=42)\n",
    "## TODO: replace cv with x_train"
   ]
  },
  {
   "cell_type": "markdown",
   "id": "75f3ebae",
   "metadata": {},
   "source": [
    "# Modeling"
   ]
  },
  {
   "cell_type": "markdown",
   "id": "257bc788",
   "metadata": {},
   "source": [
    "### Logistic Classifier with Feature selection"
   ]
  },
  {
   "cell_type": "code",
   "execution_count": 25,
   "id": "9d191641",
   "metadata": {},
   "outputs": [
    {
     "name": "stdout",
     "output_type": "stream",
     "text": [
      "score: 0.8513513513513513\n",
      "features ranking: [ 1  1  1  1  1  1  1  6  1  4  2 13 14  9 11  5  1  7 12 10  8  1  1  1\n",
      "  1  3]\n"
     ]
    },
    {
     "data": {
      "text/plain": [
       "array(['num__GDP per capita', 'num__Social support',\n",
       "       'num__Healthy life expectancy',\n",
       "       'num__Freedom to make life choices', 'num__Generosity',\n",
       "       'num__Perceptions of corruption', 'num__Terrorist_attacks',\n",
       "       'cat__region_Americas',\n",
       "       'cat__sub-region_Latin America and the Caribbean',\n",
       "       'cat__sub-region_Southern Asia', 'cat__sub-region_Southern Europe',\n",
       "       'cat__sub-region_Sub-Saharan Africa',\n",
       "       'cat__sub-region_Western Asia'], dtype=object)"
      ]
     },
     "execution_count": 25,
     "metadata": {},
     "output_type": "execute_result"
    }
   ],
   "source": [
    "from sklearn.linear_model import LogisticRegression\n",
    "from sklearn.feature_selection import RFE\n",
    "\n",
    "model = LogisticRegression()\n",
    "\n",
    "# Select best feature \n",
    "rfe = RFE(model)\n",
    "rfe = rfe.fit(preprocessor(X_train), y_train_labels)\n",
    "print(f'score:', rfe.score(preprocessor(X_train), y_train_labels))\n",
    "\n",
    "# Summarize the selection of the features\n",
    "# print(rfe.support_)\n",
    "print(f'features ranking:', rfe.ranking_)\n",
    "selected_fea = encoded_feature[rfe.support_]\n",
    "selected_fea"
   ]
  },
  {
   "cell_type": "code",
   "execution_count": 26,
   "id": "30e56210",
   "metadata": {},
   "outputs": [
    {
     "data": {
      "text/plain": [
       "['cat__region_Africa',\n",
       " 'cat__region_Asia',\n",
       " 'cat__region_Europe',\n",
       " 'cat__region_Oceania',\n",
       " 'cat__sub-region_Australia and New Zealand',\n",
       " 'cat__sub-region_Central Asia',\n",
       " 'cat__sub-region_Eastern Asia',\n",
       " 'cat__sub-region_Eastern Europe',\n",
       " 'cat__sub-region_Northern Africa',\n",
       " 'cat__sub-region_Northern America',\n",
       " 'cat__sub-region_Northern Europe',\n",
       " 'cat__sub-region_South-eastern Asia',\n",
       " 'cat__sub-region_Western Europe']"
      ]
     },
     "execution_count": 26,
     "metadata": {},
     "output_type": "execute_result"
    }
   ],
   "source": [
    "[fea for fea in encoded_feature if fea not in selected_fea]"
   ]
  },
  {
   "cell_type": "code",
   "execution_count": 27,
   "id": "268ff21c",
   "metadata": {},
   "outputs": [
    {
     "data": {
      "text/plain": [
       "0.42857142857142855"
      ]
     },
     "execution_count": 27,
     "metadata": {},
     "output_type": "execute_result"
    }
   ],
   "source": [
    "from sklearn.metrics import accuracy_score\n",
    "y_pred = rfe.predict(preprocessor(X_val))\n",
    "accuracy_score(y_val_labels, y_pred)"
   ]
  },
  {
   "cell_type": "markdown",
   "id": "148a1661",
   "metadata": {},
   "source": [
    "It looks like all the numerical features are important features while some categorical features tells us more information than others. Specifically, Asia and Americas rank the highest amongst area information."
   ]
  },
  {
   "cell_type": "markdown",
   "id": "7b97bca1",
   "metadata": {},
   "source": [
    "### Logistic with L1 regularization (feature selection)"
   ]
  },
  {
   "cell_type": "code",
   "execution_count": 28,
   "id": "bbf9dd91",
   "metadata": {},
   "outputs": [
    {
     "data": {
      "text/plain": [
       "0.8108108108108109"
      ]
     },
     "execution_count": 28,
     "metadata": {},
     "output_type": "execute_result"
    }
   ],
   "source": [
    "model = LogisticRegression(penalty='l1', solver='saga', max_iter=1000, random_state=0)\n",
    "model.fit(preprocessor(X_train), y_train_labels) # Fitting to the training set.\n",
    "model.score(preprocessor(X_train), y_train_labels) # Fit score, 0-1 scale."
   ]
  },
  {
   "cell_type": "code",
   "execution_count": 29,
   "id": "0233b872",
   "metadata": {},
   "outputs": [
    {
     "name": "stdout",
     "output_type": "stream",
     "text": [
      "[-0.05954422  0.          0.         -0.22826561  0.          0.\n",
      "  0.56366812  0.         -0.54217454  0.          0.          0.\n",
      "  0.          0.          0.          0.         -0.42599351  0.\n",
      "  0.          0.          0.          0.          0.62736644  0.\n",
      "  0.          0.        ]\n"
     ]
    },
    {
     "data": {
      "text/plain": [
       "array(['num__GDP per capita', 'num__Freedom to make life choices',\n",
       "       'num__Terrorist_attacks', 'cat__region_Americas',\n",
       "       'cat__sub-region_Latin America and the Caribbean',\n",
       "       'cat__sub-region_Southern Europe'], dtype=object)"
      ]
     },
     "execution_count": 29,
     "metadata": {},
     "output_type": "execute_result"
    }
   ],
   "source": [
    "w = model.coef_[0]\n",
    "print(w)\n",
    "encoded_feature[w != 0]"
   ]
  },
  {
   "cell_type": "code",
   "execution_count": 30,
   "id": "343322d4",
   "metadata": {},
   "outputs": [
    {
     "data": {
      "text/plain": [
       "0.42857142857142855"
      ]
     },
     "execution_count": 30,
     "metadata": {},
     "output_type": "execute_result"
    }
   ],
   "source": [
    "y_pred = model.predict(preprocessor(X_val))\n",
    "accuracy_score(y_val_labels, y_pred)"
   ]
  },
  {
   "cell_type": "markdown",
   "id": "53517c6a",
   "metadata": {},
   "source": [
    "Test Result\n",
    "- Accuracy: 44.12%\n",
    "- F1 score: 43.00%\n",
    "- Precision: 50.10%\n",
    "- Recall: 46.71%"
   ]
  },
  {
   "cell_type": "markdown",
   "id": "78fbaf73",
   "metadata": {},
   "source": [
    "### Logistic with Elastic Net"
   ]
  },
  {
   "cell_type": "code",
   "execution_count": 31,
   "id": "adc3f866",
   "metadata": {},
   "outputs": [
    {
     "data": {
      "text/plain": [
       "0.8243243243243243"
      ]
     },
     "execution_count": 31,
     "metadata": {},
     "output_type": "execute_result"
    }
   ],
   "source": [
    "model = LogisticRegression(l1_ratio=0.8, penalty='elasticnet', solver='saga', max_iter=1000, random_state=0)\n",
    "model.fit(preprocessor(X_train), y_train_labels) # Fitting to the training set.\n",
    "model.score(preprocessor(X_train), y_train_labels) # Fit score, 0-1 scale."
   ]
  },
  {
   "cell_type": "code",
   "execution_count": 32,
   "id": "c5ec87b0",
   "metadata": {},
   "outputs": [
    {
     "name": "stdout",
     "output_type": "stream",
     "text": [
      "[-0.11219198  0.          0.         -0.25694673  0.          0.06917819\n",
      "  0.55980774  0.         -0.52772067  0.          0.07498014  0.\n",
      "  0.          0.          0.          0.         -0.49426468  0.\n",
      "  0.          0.          0.          0.          0.69804405 -0.09307573\n",
      "  0.          0.        ]\n"
     ]
    },
    {
     "data": {
      "text/plain": [
       "array(['num__GDP per capita', 'num__Freedom to make life choices',\n",
       "       'num__Perceptions of corruption', 'num__Terrorist_attacks',\n",
       "       'cat__region_Americas', 'cat__region_Europe',\n",
       "       'cat__sub-region_Latin America and the Caribbean',\n",
       "       'cat__sub-region_Southern Europe',\n",
       "       'cat__sub-region_Sub-Saharan Africa'], dtype=object)"
      ]
     },
     "execution_count": 32,
     "metadata": {},
     "output_type": "execute_result"
    }
   ],
   "source": [
    "w = model.coef_[0]\n",
    "print(w)\n",
    "encoded_feature[w != 0]"
   ]
  },
  {
   "cell_type": "code",
   "execution_count": 33,
   "id": "223ac4a1",
   "metadata": {},
   "outputs": [
    {
     "data": {
      "text/plain": [
       "0.42857142857142855"
      ]
     },
     "execution_count": 33,
     "metadata": {},
     "output_type": "execute_result"
    }
   ],
   "source": [
    "y_pred = model.predict(preprocessor(X_val))\n",
    "accuracy_score(y_val_labels, y_pred)"
   ]
  },
  {
   "cell_type": "markdown",
   "id": "d31badbd",
   "metadata": {},
   "source": [
    "Test Result\n",
    "- Accuracy: 47.06%\n",
    "- F1 score: 46.38%\n",
    "- Precision: 55.16%\n",
    "- Recall: 49.57%"
   ]
  },
  {
   "cell_type": "markdown",
   "id": "2f97591f",
   "metadata": {},
   "source": [
    "Overall speaking, Terrorist_attacks is the most important feature that in all three logistic classifiers, which is a feature I will not consider removing in my future model"
   ]
  },
  {
   "cell_type": "markdown",
   "id": "9b0e7faf",
   "metadata": {},
   "source": [
    "### Random Forest with hyperparameter tuning"
   ]
  },
  {
   "cell_type": "code",
   "execution_count": 35,
   "id": "a746abe5",
   "metadata": {},
   "outputs": [
    {
     "name": "stdout",
     "output_type": "stream",
     "text": [
      "best mean cross-validation score: 0.743\n",
      "best parameters: {'max_depth': 7, 'n_estimators': 100}\n"
     ]
    }
   ],
   "source": [
    "from sklearn.ensemble import RandomForestClassifier\n",
    "from sklearn.model_selection import GridSearchCV\n",
    "import numpy as np\n",
    "\n",
    "param_grid = {'n_estimators': np.arange(100, 300, 100),'max_depth':[3, 5, 7]} \n",
    "gridmodel = GridSearchCV(RandomForestClassifier(), param_grid=param_grid, cv=10)\n",
    "\n",
    "#use meta model methods to fit score and predict model:\n",
    "gridmodel.fit(preprocessor(X_train), y_train_labels)\n",
    "\n",
    "#extract best score and parameter by calling objects \"best_score_\" and \"best_params_\"\n",
    "print(\"best mean cross-validation score: {:.3f}\".format(gridmodel.best_score_))\n",
    "print(\"best parameters: {}\".format(gridmodel.best_params_))"
   ]
  },
  {
   "cell_type": "code",
   "execution_count": 38,
   "id": "e9af1dbb",
   "metadata": {},
   "outputs": [
    {
     "data": {
      "text/plain": [
       "0.42857142857142855"
      ]
     },
     "execution_count": 38,
     "metadata": {},
     "output_type": "execute_result"
    }
   ],
   "source": [
    "y_pred = gridmodel.best_estimator_.predict(preprocessor(X_val))\n",
    "accuracy_score(y_val_labels, y_pred)"
   ]
  },
  {
   "cell_type": "code",
   "execution_count": 39,
   "id": "2cdc9183",
   "metadata": {},
   "outputs": [
    {
     "data": {
      "text/html": [
       "<div>\n",
       "<style scoped>\n",
       "    .dataframe tbody tr th:only-of-type {\n",
       "        vertical-align: middle;\n",
       "    }\n",
       "\n",
       "    .dataframe tbody tr th {\n",
       "        vertical-align: top;\n",
       "    }\n",
       "\n",
       "    .dataframe thead th {\n",
       "        text-align: right;\n",
       "    }\n",
       "</style>\n",
       "<table border=\"1\" class=\"dataframe\">\n",
       "  <thead>\n",
       "    <tr style=\"text-align: right;\">\n",
       "      <th></th>\n",
       "      <th>features</th>\n",
       "      <th>importance</th>\n",
       "    </tr>\n",
       "  </thead>\n",
       "  <tbody>\n",
       "    <tr>\n",
       "      <th>0</th>\n",
       "      <td>num__GDP per capita</td>\n",
       "      <td>0.195994</td>\n",
       "    </tr>\n",
       "    <tr>\n",
       "      <th>1</th>\n",
       "      <td>num__Social support</td>\n",
       "      <td>0.133652</td>\n",
       "    </tr>\n",
       "    <tr>\n",
       "      <th>2</th>\n",
       "      <td>num__Healthy life expectancy</td>\n",
       "      <td>0.132049</td>\n",
       "    </tr>\n",
       "    <tr>\n",
       "      <th>3</th>\n",
       "      <td>num__Freedom to make life choices</td>\n",
       "      <td>0.125405</td>\n",
       "    </tr>\n",
       "    <tr>\n",
       "      <th>5</th>\n",
       "      <td>num__Perceptions of corruption</td>\n",
       "      <td>0.100249</td>\n",
       "    </tr>\n",
       "    <tr>\n",
       "      <th>4</th>\n",
       "      <td>num__Generosity</td>\n",
       "      <td>0.080372</td>\n",
       "    </tr>\n",
       "    <tr>\n",
       "      <th>6</th>\n",
       "      <td>num__Terrorist_attacks</td>\n",
       "      <td>0.076902</td>\n",
       "    </tr>\n",
       "    <tr>\n",
       "      <th>23</th>\n",
       "      <td>cat__sub-region_Sub-Saharan Africa</td>\n",
       "      <td>0.029327</td>\n",
       "    </tr>\n",
       "    <tr>\n",
       "      <th>16</th>\n",
       "      <td>cat__sub-region_Latin America and the Caribbean</td>\n",
       "      <td>0.019030</td>\n",
       "    </tr>\n",
       "    <tr>\n",
       "      <th>7</th>\n",
       "      <td>cat__region_Africa</td>\n",
       "      <td>0.016953</td>\n",
       "    </tr>\n",
       "  </tbody>\n",
       "</table>\n",
       "</div>"
      ],
      "text/plain": [
       "                                           features  importance\n",
       "0                               num__GDP per capita    0.195994\n",
       "1                               num__Social support    0.133652\n",
       "2                      num__Healthy life expectancy    0.132049\n",
       "3                 num__Freedom to make life choices    0.125405\n",
       "5                    num__Perceptions of corruption    0.100249\n",
       "4                                   num__Generosity    0.080372\n",
       "6                            num__Terrorist_attacks    0.076902\n",
       "23               cat__sub-region_Sub-Saharan Africa    0.029327\n",
       "16  cat__sub-region_Latin America and the Caribbean    0.019030\n",
       "7                                cat__region_Africa    0.016953"
      ]
     },
     "execution_count": 39,
     "metadata": {},
     "output_type": "execute_result"
    }
   ],
   "source": [
    "feature_importance = gridmodel.best_estimator_.feature_importances_\n",
    "importance_df = pd.DataFrame({'features': encoded_feature,\n",
    "                              'importance': feature_importance})\n",
    "importance_df.sort_values(by='importance', ascending=False, inplace=True)\n",
    "importance_df[:10]"
   ]
  },
  {
   "cell_type": "markdown",
   "id": "92f73b3e",
   "metadata": {},
   "source": [
    "Test Result\n",
    "- Accuracy: 52.94%\n",
    "- F1 score: 51.56%\n",
    "- Precision: 71.39%\n",
    "- Recall: 55.29%"
   ]
  },
  {
   "cell_type": "markdown",
   "id": "10bd316f",
   "metadata": {},
   "source": [
    "### Random Forest with Feature Selection"
   ]
  },
  {
   "cell_type": "code",
   "execution_count": 40,
   "id": "734bedb2",
   "metadata": {},
   "outputs": [
    {
     "data": {
      "text/plain": [
       "array(['num__GDP per capita', 'num__Social support',\n",
       "       'num__Healthy life expectancy',\n",
       "       'num__Freedom to make life choices', 'num__Generosity',\n",
       "       'num__Perceptions of corruption', 'num__Terrorist_attacks'],\n",
       "      dtype=object)"
      ]
     },
     "execution_count": 40,
     "metadata": {},
     "output_type": "execute_result"
    }
   ],
   "source": [
    "from sklearn.feature_selection import SelectFromModel\n",
    "sel = SelectFromModel(RandomForestClassifier(n_estimators = 100, max_depth = 7,random_state=0)) \n",
    "sel.fit(preprocessor(X_train), y_train_labels)\n",
    "\n",
    "encoded_feature[sel.get_support()]"
   ]
  },
  {
   "cell_type": "code",
   "execution_count": 41,
   "id": "cab2d284",
   "metadata": {},
   "outputs": [
    {
     "data": {
      "text/plain": [
       "0.35714285714285715"
      ]
     },
     "execution_count": 41,
     "metadata": {},
     "output_type": "execute_result"
    }
   ],
   "source": [
    "y_pred = sel.estimator_.predict(preprocessor(X_val))\n",
    "accuracy_score(y_val_labels, y_pred)"
   ]
  },
  {
   "cell_type": "markdown",
   "id": "8f71fddb",
   "metadata": {},
   "source": [
    "It looks like all the numerical features are the more important ones in predicting the hapiness score, even though it doesn't improve the accuracy score. I consider removing the categorical features from training data and see what happen"
   ]
  },
  {
   "cell_type": "markdown",
   "id": "e7754f15",
   "metadata": {},
   "source": [
    "### Gradient Boosting Forest"
   ]
  },
  {
   "cell_type": "code",
   "execution_count": 43,
   "id": "aff9da9f",
   "metadata": {},
   "outputs": [
    {
     "name": "stdout",
     "output_type": "stream",
     "text": [
      "best mean cross-validation score: 0.661\n",
      "best parameters: {'max_depth': 3, 'n_estimators': 200}\n"
     ]
    }
   ],
   "source": [
    "from sklearn.ensemble import GradientBoostingClassifier\n",
    "from sklearn.model_selection import GridSearchCV\n",
    "import numpy as np\n",
    "param_grid = {'n_estimators': np.arange(100, 300, 100),'max_depth': np.arange(1,7,2)} \n",
    "gridmodel = GridSearchCV(GradientBoostingClassifier(random_state=0), param_grid=param_grid, cv=4)\n",
    "\n",
    "#use meta model methods to fit score and predict model:\n",
    "gridmodel.fit(preprocessor(X_train), y_train_labels)\n",
    "\n",
    "#extract best score and parameter by calling objects \"best_score_\" and \"best_params_\"\n",
    "print(\"best mean cross-validation score: {:.3f}\".format(gridmodel.best_score_))\n",
    "print(\"best parameters: {}\".format(gridmodel.best_params_))"
   ]
  },
  {
   "cell_type": "code",
   "execution_count": 44,
   "id": "ec88655e",
   "metadata": {},
   "outputs": [
    {
     "data": {
      "text/plain": [
       "1.0"
      ]
     },
     "execution_count": 44,
     "metadata": {},
     "output_type": "execute_result"
    }
   ],
   "source": [
    "model_best = GradientBoostingClassifier(n_estimators=100, learning_rate=1.3,\n",
    "    max_depth=1, random_state=0).fit(preprocessor(X_train), y_train_labels)\n",
    "model_best.score(preprocessor(X_train), y_train_labels)"
   ]
  },
  {
   "cell_type": "code",
   "execution_count": 45,
   "id": "102b4d47",
   "metadata": {},
   "outputs": [
    {
     "data": {
      "text/plain": [
       "0.5"
      ]
     },
     "execution_count": 45,
     "metadata": {},
     "output_type": "execute_result"
    }
   ],
   "source": [
    "y_pred = model_best.predict(preprocessor(X_val))\n",
    "accuracy_score(y_val_labels, y_pred)"
   ]
  },
  {
   "cell_type": "code",
   "execution_count": 46,
   "id": "f07c08c3",
   "metadata": {},
   "outputs": [
    {
     "data": {
      "text/html": [
       "<div>\n",
       "<style scoped>\n",
       "    .dataframe tbody tr th:only-of-type {\n",
       "        vertical-align: middle;\n",
       "    }\n",
       "\n",
       "    .dataframe tbody tr th {\n",
       "        vertical-align: top;\n",
       "    }\n",
       "\n",
       "    .dataframe thead th {\n",
       "        text-align: right;\n",
       "    }\n",
       "</style>\n",
       "<table border=\"1\" class=\"dataframe\">\n",
       "  <thead>\n",
       "    <tr style=\"text-align: right;\">\n",
       "      <th></th>\n",
       "      <th>features</th>\n",
       "      <th>importance</th>\n",
       "    </tr>\n",
       "  </thead>\n",
       "  <tbody>\n",
       "    <tr>\n",
       "      <th>0</th>\n",
       "      <td>num__GDP per capita</td>\n",
       "      <td>0.504419</td>\n",
       "    </tr>\n",
       "    <tr>\n",
       "      <th>1</th>\n",
       "      <td>num__Social support</td>\n",
       "      <td>0.168158</td>\n",
       "    </tr>\n",
       "    <tr>\n",
       "      <th>4</th>\n",
       "      <td>num__Generosity</td>\n",
       "      <td>0.059242</td>\n",
       "    </tr>\n",
       "    <tr>\n",
       "      <th>5</th>\n",
       "      <td>num__Perceptions of corruption</td>\n",
       "      <td>0.053457</td>\n",
       "    </tr>\n",
       "    <tr>\n",
       "      <th>3</th>\n",
       "      <td>num__Freedom to make life choices</td>\n",
       "      <td>0.051765</td>\n",
       "    </tr>\n",
       "    <tr>\n",
       "      <th>22</th>\n",
       "      <td>cat__sub-region_Southern Europe</td>\n",
       "      <td>0.035832</td>\n",
       "    </tr>\n",
       "    <tr>\n",
       "      <th>23</th>\n",
       "      <td>cat__sub-region_Sub-Saharan Africa</td>\n",
       "      <td>0.034604</td>\n",
       "    </tr>\n",
       "    <tr>\n",
       "      <th>16</th>\n",
       "      <td>cat__sub-region_Latin America and the Caribbean</td>\n",
       "      <td>0.022867</td>\n",
       "    </tr>\n",
       "    <tr>\n",
       "      <th>6</th>\n",
       "      <td>num__Terrorist_attacks</td>\n",
       "      <td>0.017432</td>\n",
       "    </tr>\n",
       "    <tr>\n",
       "      <th>24</th>\n",
       "      <td>cat__sub-region_Western Asia</td>\n",
       "      <td>0.015279</td>\n",
       "    </tr>\n",
       "  </tbody>\n",
       "</table>\n",
       "</div>"
      ],
      "text/plain": [
       "                                           features  importance\n",
       "0                               num__GDP per capita    0.504419\n",
       "1                               num__Social support    0.168158\n",
       "4                                   num__Generosity    0.059242\n",
       "5                    num__Perceptions of corruption    0.053457\n",
       "3                 num__Freedom to make life choices    0.051765\n",
       "22                  cat__sub-region_Southern Europe    0.035832\n",
       "23               cat__sub-region_Sub-Saharan Africa    0.034604\n",
       "16  cat__sub-region_Latin America and the Caribbean    0.022867\n",
       "6                            num__Terrorist_attacks    0.017432\n",
       "24                     cat__sub-region_Western Asia    0.015279"
      ]
     },
     "execution_count": 46,
     "metadata": {},
     "output_type": "execute_result"
    }
   ],
   "source": [
    "feature_importance = model_best.feature_importances_\n",
    "importance_df = pd.DataFrame({'features': encoded_feature,\n",
    "                              'importance': feature_importance})\n",
    "importance_df.sort_values(by='importance', ascending=False, inplace=True)\n",
    "importance_df[:10]"
   ]
  },
  {
   "cell_type": "markdown",
   "id": "21a85be1",
   "metadata": {},
   "source": [
    "Test Result\n",
    "- Accuracy: 58.89%\n",
    "- F1 score: 57.65%\n",
    "- Precision: 65.60%\n",
    "- Recall: 59.5%"
   ]
  },
  {
   "cell_type": "markdown",
   "id": "e2ad5dce",
   "metadata": {},
   "source": [
    "### Gradient Boosting Forest without categorical features"
   ]
  },
  {
   "cell_type": "code",
   "execution_count": 315,
   "id": "b7b58b50",
   "metadata": {},
   "outputs": [
    {
     "data": {
      "text/plain": [
       "1.0"
      ]
     },
     "execution_count": 315,
     "metadata": {},
     "output_type": "execute_result"
    }
   ],
   "source": [
    "model_2 = GradientBoostingClassifier(n_estimators=100, learning_rate=1.3,\n",
    "    max_depth=1, random_state=0).fit(preprocessor(X_train), y_train_labels)\n",
    "model_2.score(preprocessor(X_train), y_train_labels)"
   ]
  },
  {
   "cell_type": "code",
   "execution_count": 317,
   "id": "4642a42e",
   "metadata": {},
   "outputs": [
    {
     "data": {
      "text/plain": [
       "0.6"
      ]
     },
     "execution_count": 317,
     "metadata": {},
     "output_type": "execute_result"
    }
   ],
   "source": [
    "y_pred = model_2.predict(preprocessor(X_val))\n",
    "accuracy_score(y_val_labels, y_pred)"
   ]
  },
  {
   "cell_type": "markdown",
   "id": "1fe23d57",
   "metadata": {},
   "source": [
    "Test Result\n",
    "- Accuracy: 52.94%\n",
    "- F1 score: 52.40%\n",
    "- Precision: 60%\n",
    "- Recall: 53.43%"
   ]
  },
  {
   "cell_type": "markdown",
   "id": "3c3f22f1",
   "metadata": {},
   "source": [
    "By comparing my best model on training data with and without categorical features, it looks like including region and subregion information help predicting the Happiness score"
   ]
  },
  {
   "cell_type": "markdown",
   "id": "8f96ca06",
   "metadata": {},
   "source": [
    "## Best Model"
   ]
  },
  {
   "cell_type": "code",
   "execution_count": 47,
   "id": "2525171a",
   "metadata": {},
   "outputs": [
    {
     "data": {
      "text/html": [
       "<style>#sk-container-id-1 {color: black;background-color: white;}#sk-container-id-1 pre{padding: 0;}#sk-container-id-1 div.sk-toggleable {background-color: white;}#sk-container-id-1 label.sk-toggleable__label {cursor: pointer;display: block;width: 100%;margin-bottom: 0;padding: 0.3em;box-sizing: border-box;text-align: center;}#sk-container-id-1 label.sk-toggleable__label-arrow:before {content: \"▸\";float: left;margin-right: 0.25em;color: #696969;}#sk-container-id-1 label.sk-toggleable__label-arrow:hover:before {color: black;}#sk-container-id-1 div.sk-estimator:hover label.sk-toggleable__label-arrow:before {color: black;}#sk-container-id-1 div.sk-toggleable__content {max-height: 0;max-width: 0;overflow: hidden;text-align: left;background-color: #f0f8ff;}#sk-container-id-1 div.sk-toggleable__content pre {margin: 0.2em;color: black;border-radius: 0.25em;background-color: #f0f8ff;}#sk-container-id-1 input.sk-toggleable__control:checked~div.sk-toggleable__content {max-height: 200px;max-width: 100%;overflow: auto;}#sk-container-id-1 input.sk-toggleable__control:checked~label.sk-toggleable__label-arrow:before {content: \"▾\";}#sk-container-id-1 div.sk-estimator input.sk-toggleable__control:checked~label.sk-toggleable__label {background-color: #d4ebff;}#sk-container-id-1 div.sk-label input.sk-toggleable__control:checked~label.sk-toggleable__label {background-color: #d4ebff;}#sk-container-id-1 input.sk-hidden--visually {border: 0;clip: rect(1px 1px 1px 1px);clip: rect(1px, 1px, 1px, 1px);height: 1px;margin: -1px;overflow: hidden;padding: 0;position: absolute;width: 1px;}#sk-container-id-1 div.sk-estimator {font-family: monospace;background-color: #f0f8ff;border: 1px dotted black;border-radius: 0.25em;box-sizing: border-box;margin-bottom: 0.5em;}#sk-container-id-1 div.sk-estimator:hover {background-color: #d4ebff;}#sk-container-id-1 div.sk-parallel-item::after {content: \"\";width: 100%;border-bottom: 1px solid gray;flex-grow: 1;}#sk-container-id-1 div.sk-label:hover label.sk-toggleable__label {background-color: #d4ebff;}#sk-container-id-1 div.sk-serial::before {content: \"\";position: absolute;border-left: 1px solid gray;box-sizing: border-box;top: 0;bottom: 0;left: 50%;z-index: 0;}#sk-container-id-1 div.sk-serial {display: flex;flex-direction: column;align-items: center;background-color: white;padding-right: 0.2em;padding-left: 0.2em;position: relative;}#sk-container-id-1 div.sk-item {position: relative;z-index: 1;}#sk-container-id-1 div.sk-parallel {display: flex;align-items: stretch;justify-content: center;background-color: white;position: relative;}#sk-container-id-1 div.sk-item::before, #sk-container-id-1 div.sk-parallel-item::before {content: \"\";position: absolute;border-left: 1px solid gray;box-sizing: border-box;top: 0;bottom: 0;left: 50%;z-index: -1;}#sk-container-id-1 div.sk-parallel-item {display: flex;flex-direction: column;z-index: 1;position: relative;background-color: white;}#sk-container-id-1 div.sk-parallel-item:first-child::after {align-self: flex-end;width: 50%;}#sk-container-id-1 div.sk-parallel-item:last-child::after {align-self: flex-start;width: 50%;}#sk-container-id-1 div.sk-parallel-item:only-child::after {width: 0;}#sk-container-id-1 div.sk-dashed-wrapped {border: 1px dashed gray;margin: 0 0.4em 0.5em 0.4em;box-sizing: border-box;padding-bottom: 0.4em;background-color: white;}#sk-container-id-1 div.sk-label label {font-family: monospace;font-weight: bold;display: inline-block;line-height: 1.2em;}#sk-container-id-1 div.sk-label-container {text-align: center;}#sk-container-id-1 div.sk-container {/* jupyter's `normalize.less` sets `[hidden] { display: none; }` but bootstrap.min.css set `[hidden] { display: none !important; }` so we also need the `!important` here to be able to override the default hidden behavior on the sphinx rendered scikit-learn.org. See: https://github.com/scikit-learn/scikit-learn/issues/21755 */display: inline-block !important;position: relative;}#sk-container-id-1 div.sk-text-repr-fallback {display: none;}</style><div id=\"sk-container-id-1\" class=\"sk-top-container\"><div class=\"sk-text-repr-fallback\"><pre>GradientBoostingClassifier(learning_rate=1.3, max_depth=1, random_state=0)</pre><b>In a Jupyter environment, please rerun this cell to show the HTML representation or trust the notebook. <br />On GitHub, the HTML representation is unable to render, please try loading this page with nbviewer.org.</b></div><div class=\"sk-container\" hidden><div class=\"sk-item\"><div class=\"sk-estimator sk-toggleable\"><input class=\"sk-toggleable__control sk-hidden--visually\" id=\"sk-estimator-id-1\" type=\"checkbox\" checked><label for=\"sk-estimator-id-1\" class=\"sk-toggleable__label sk-toggleable__label-arrow\">GradientBoostingClassifier</label><div class=\"sk-toggleable__content\"><pre>GradientBoostingClassifier(learning_rate=1.3, max_depth=1, random_state=0)</pre></div></div></div></div></div>"
      ],
      "text/plain": [
       "GradientBoostingClassifier(learning_rate=1.3, max_depth=1, random_state=0)"
      ]
     },
     "execution_count": 47,
     "metadata": {},
     "output_type": "execute_result"
    }
   ],
   "source": [
    "model_best"
   ]
  },
  {
   "cell_type": "code",
   "execution_count": null,
   "id": "f9e0712a",
   "metadata": {},
   "outputs": [],
   "source": []
  }
 ],
 "metadata": {
  "kernelspec": {
   "display_name": "Python 3 (ipykernel)",
   "language": "python",
   "name": "python3"
  },
  "language_info": {
   "codemirror_mode": {
    "name": "ipython",
    "version": 3
   },
   "file_extension": ".py",
   "mimetype": "text/x-python",
   "name": "python",
   "nbconvert_exporter": "python",
   "pygments_lexer": "ipython3",
   "version": "3.9.12"
  }
 },
 "nbformat": 4,
 "nbformat_minor": 5
}
